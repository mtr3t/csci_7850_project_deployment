{
 "cells": [
  {
   "cell_type": "markdown",
   "metadata": {},
   "source": [
    "### imports"
   ]
  },
  {
   "cell_type": "code",
   "execution_count": 1,
   "metadata": {},
   "outputs": [],
   "source": [
    "import time\n",
    "import hrr_persistant_memory as hrr\n",
    "import numpy as np\n",
    "import tensorflow as tf\n",
    "from tensorflow import keras\n",
    "import matplotlib.pyplot as plt\n",
    "from collections import Counter\n",
    "from tensorflow.python.framework.ops import disable_eager_execution\n",
    "disable_eager_execution()"
   ]
  },
  {
   "cell_type": "markdown",
   "metadata": {},
   "source": [
    "### maze enviornment"
   ]
  },
  {
   "cell_type": "code",
   "execution_count": 2,
   "metadata": {},
   "outputs": [],
   "source": [
    "# maze enviornment\n",
    "#  l    42    r\n",
    "# rg    32    gg\n",
    "# 20 21 22 23 24\n",
    "#      ]12[ \n",
    "#  0  1  2  3  4\n",
    "#      - 8\n",
    "#      -18\n",
    "\n",
    "def maze(state):\n",
    "    if state == -18:\n",
    "        return ['up']\n",
    "    if state == -8:\n",
    "        return ['up', 'down']\n",
    "    if state == 0:\n",
    "        return ['right']\n",
    "    if state == 1:\n",
    "        return ['right', 'left']\n",
    "    if state == 2:\n",
    "        return ['right', 'up', 'left', 'down']\n",
    "    if state == 3:\n",
    "        return ['right', 'left']\n",
    "    if state == 4:\n",
    "        return ['left']\n",
    "    if state == 12:\n",
    "        return ['up', 'down']\n",
    "    if state == 20:\n",
    "        return ['right']\n",
    "    if state == 21:\n",
    "        return ['right', 'left']\n",
    "    if state == 22:\n",
    "        return ['right', 'up', 'left', 'down']\n",
    "    if state == 23:\n",
    "        return ['right', 'left']\n",
    "    if state == 24:\n",
    "        return ['left']\n",
    "    if state == 32:\n",
    "        return ['up', 'down']\n",
    "    if state == 42:\n",
    "        return ['down']"
   ]
  },
  {
   "cell_type": "markdown",
   "metadata": {},
   "source": [
    "### hyperparameters"
   ]
  },
  {
   "cell_type": "code",
   "execution_count": 3,
   "metadata": {},
   "outputs": [],
   "source": [
    "bias = 1.0\n",
    "reward = 1.0\n",
    "\n",
    "gamma = 0.5\n",
    "alpha = 0.1\n",
    "lambd = 0.0\n",
    "epsilon = 0.05\n",
    "\n",
    "states = 12\n",
    "episodes = 10000\n",
    "\n",
    "hrr_size = 1024\n",
    "non_goal_states = 0\n",
    "\n",
    "# drop in states\n",
    "drop_in_states = [0]\n",
    "gates = ['open', 'closed']"
   ]
  },
  {
   "cell_type": "markdown",
   "metadata": {},
   "source": [
    "### gate functions"
   ]
  },
  {
   "cell_type": "code",
   "execution_count": 4,
   "metadata": {},
   "outputs": [],
   "source": [
    "def encode_gate(state, signal, w_m, gate_action):\n",
    "    string = 'state_'  + str(state) + \"*\" + \\\n",
    "             'signal_' + str(signal) + \"*\" + \\\n",
    "             'w_m_' + str(w_m) + \"*\" + \\\n",
    "             'gate_action_' + str(gate_action)\n",
    "    encoded = np.array([memory.encode(string)])\n",
    "    return(encoded)"
   ]
  },
  {
   "cell_type": "code",
   "execution_count": 5,
   "metadata": {},
   "outputs": [],
   "source": [
    "# input gate\n",
    "\n",
    "def q_input_gate(state, signal, w_m):\n",
    "    max_value = -99999\n",
    "    \n",
    "    if np.random.random() < epsilon:\n",
    "        gate = np.random.choice(gates)\n",
    "        hrr = encode_gate(state, signal, w_m, gate)\n",
    "        value = model_input_gate.predict(hrr)[0,0] + bias\n",
    "        return value, hrr, gate\n",
    "    else:\n",
    "        for gate_action in gates:\n",
    "            hrr = encode_gate(state, signal, w_m, gate_action)\n",
    "            value = model_input_gate.predict(hrr)[0,0] + bias\n",
    "            if value > max_value:\n",
    "                max_value = value\n",
    "                max_hrr = hrr\n",
    "                max_gate = gate_action\n",
    "        return  max_value, max_hrr, max_gate"
   ]
  },
  {
   "cell_type": "code",
   "execution_count": 6,
   "metadata": {},
   "outputs": [],
   "source": [
    "# output gate\n",
    "\n",
    "def q_output_gate(state, signal, w_m):\n",
    "    max_value = -99999\n",
    "    \n",
    "    if np.random.random() < epsilon:\n",
    "        gate = np.random.choice(gates)\n",
    "        hrr = encode_gate(state, signal, w_m, gate)\n",
    "        value = model_output_gate.predict(hrr)[0,0] + bias\n",
    "        return value, hrr, gate\n",
    "    else:\n",
    "        for gate_action in gates:\n",
    "            hrr = encode_gate(state, signal, w_m, gate_action)\n",
    "            value = model_output_gate.predict(hrr)[0,0] + bias\n",
    "            if value > max_value:\n",
    "                max_value = value\n",
    "                max_hrr = hrr\n",
    "                max_gate = gate_action\n",
    "        return  max_value, max_hrr, max_gate"
   ]
  },
  {
   "cell_type": "code",
   "execution_count": 7,
   "metadata": {},
   "outputs": [],
   "source": [
    "# move gate\n",
    "\n",
    "def encode_move(state, signal, w_m, phyical_action):\n",
    "    string = 'state_'  + str(state) + \"*\" + \\\n",
    "             'signal_' + str(signal) + \"*\" + \\\n",
    "             'w_m_' + str(w_m) + \"*\" + \\\n",
    "             'phyical_action_' + str(phyical_action)\n",
    "    encoded = np.array([memory.encode(string)])\n",
    "    return(encoded)\n",
    "\n",
    "def q_move(state, signal, w_m):\n",
    "    max_value = -99999\n",
    "    if np.random.random() < epsilon:\n",
    "        phyical_move = np.random.choice(actions)\n",
    "        hrr = encode_move(state, signal, w_m, phyical_move)\n",
    "        value = model_move.predict(hrr)[0,0] + bias\n",
    "        return value, hrr, phyical_move  \n",
    "    else:\n",
    "        for phyical_action in actions:\n",
    "            hrr = encode_move(state, signal, w_m, phyical_action)\n",
    "            value = model_move.predict(hrr)[0,0] + bias\n",
    "            if value > max_value:\n",
    "                max_value = value\n",
    "                max_hrr = hrr\n",
    "                max_action = phyical_action\n",
    "        return  max_value, max_hrr, max_action\n",
    "\n",
    "def q_move_max(state, signal, w_m):\n",
    "    max_value = -99999\n",
    "#     print(state, actions)\n",
    "    for phyical_action in actions:    \n",
    "        hrr = encode_move(state, signal, w_m, phyical_action)\n",
    "        value = model_move.predict(hrr)[0,0] + bias\n",
    "        if value > max_value:\n",
    "            max_value = value\n",
    "            max_hrr = hrr\n",
    "            max_action = phyical_action\n",
    "    return  max_value, max_hrr, max_action"
   ]
  },
  {
   "cell_type": "markdown",
   "metadata": {},
   "source": [
    "### code is adapted to run multible times\n",
    "#### this experement was run 1 time to run more just increase the number of runs below and change import hrr_persistant_memory to hrr"
   ]
  },
  {
   "cell_type": "code",
   "execution_count": 8,
   "metadata": {},
   "outputs": [
    {
     "name": "stderr",
     "output_type": "stream",
     "text": [
      "/opt/conda/lib/python3.9/site-packages/tensorflow/python/keras/engine/training.py:2325: UserWarning: `Model.state_updates` will be removed in a future version. This property should not be used in TensorFlow 2.0, as `updates` are applied automatically.\n",
      "  warnings.warn('`Model.state_updates` will be removed in a future version. '\n",
      "2021-12-09 06:09:42.122185: I tensorflow/core/platform/cpu_feature_guard.cc:142] This TensorFlow binary is optimized with oneAPI Deep Neural Network Library (oneDNN) to use the following CPU instructions in performance-critical operations:  SSE4.1 SSE4.2 AVX FMA\n",
      "To enable them in other operations, rebuild TensorFlow with the appropriate compiler flags.\n",
      "2021-12-09 06:09:42.157515: I tensorflow/compiler/mlir/mlir_graph_optimization_pass.cc:196] None of the MLIR optimization passes are enabled (registered 0 passes)\n",
      "2021-12-09 06:09:42.185668: I tensorflow/core/platform/profile_utils/cpu_utils.cc:112] CPU Frequency: 2300170000 Hz\n"
     ]
    },
    {
     "name": "stdout",
     "output_type": "stream",
     "text": [
      "run: 1 on: 10000 in: 20.35 seconds"
     ]
    }
   ],
   "source": [
    "runs = 1\n",
    "master = []\n",
    "ep_count = []\n",
    "\n",
    "# for run in range(runs):\n",
    "#     master.append([])\n",
    "\n",
    "for run in range(runs):   \n",
    "    \n",
    "    sub_optimal_steps =[]\n",
    "    sub_optimal_average =[]\n",
    "    \n",
    "    memory = hrr.LTM(prefix=\"my_hrrs\", N=hrr_size, normalized=True)\n",
    "    \n",
    "    model_input_gate = keras.models.Sequential()\n",
    "    model_input_gate.add(keras.layers.Dense(1,input_shape=[hrr_size],use_bias=False))\n",
    "    model_input_gate.compile(loss=keras.losses.mse,\n",
    "                             optimizer=keras.optimizers.SGD(learning_rate=alpha),\n",
    "                             metrics=['accuracy'])\n",
    "    \n",
    "    model_output_gate = keras.models.Sequential()\n",
    "    model_output_gate.add(keras.layers.Dense(1,input_shape=[hrr_size],use_bias=False))\n",
    "    model_output_gate.compile(loss=keras.losses.mse,\n",
    "                              optimizer=keras.optimizers.SGD(learning_rate=alpha),\n",
    "                              metrics=['accuracy'])\n",
    "    \n",
    "    model_move = keras.models.Sequential()\n",
    "    model_move.add(keras.layers.Dense(1,input_shape=[hrr_size],use_bias=False))\n",
    "    model_move.compile(loss=keras.losses.mse,\n",
    "                       optimizer=keras.optimizers.SGD(learning_rate=alpha),\n",
    "                       metrics=['accuracy'])\n",
    "    \n",
    "    color_arr = []\n",
    "    \n",
    "    start_time = time.time()\n",
    "\n",
    "    for episode in range(episodes):\n",
    "\n",
    "        # update every 100 episodes\n",
    "        if (episode+1) % 100 == 0:\n",
    "            so_far = (time.time() - start_time)\n",
    "            print(\"\\rrun:\", run+1, \"on:\", episode+1, \"in:\", round(so_far, 2) , \"seconds\", end='')\n",
    "            start_time = time.time()\n",
    "\n",
    "        if episode > episodes/2:\n",
    "            colors = ['red', 'green', 'purple']\n",
    "        else:\n",
    "            colors = ['red', 'green']\n",
    "        \n",
    "        current_state = 0 # np.random.choice(drop_in_states)       \n",
    "        current_signal = np.random.choice(colors)\n",
    "        color_arr.append(current_signal)\n",
    "\n",
    "        if current_signal == 'red':\n",
    "            goal_state = 20\n",
    "        if current_signal == 'green':\n",
    "            goal_state = 24\n",
    "        if current_signal == 'purple':\n",
    "            goal_state = 42\n",
    "\n",
    "        # for record keeping suboptimal steps\n",
    "        color_start = current_state\n",
    "\n",
    "        # clear out working memory amd move content\n",
    "        current_w_m = ''\n",
    "        recall = 'not_remembering'\n",
    "\n",
    "        for step in range(states):\n",
    "\n",
    "            # set for same start\n",
    "            if current_state == goal_state:\n",
    "                if color_start == 0:\n",
    "                    sub_optimal_steps.append(step - 6)\n",
    "                break\n",
    "            else:\n",
    "                if step == (states-1):\n",
    "                    sub_optimal_steps.append(states)\n",
    "\n",
    "            actions = maze(current_state)\n",
    "\n",
    "            if current_signal != '':\n",
    "\n",
    "                # need to make this color\n",
    "                back_up = current_signal\n",
    "                current_signal = 'color'\n",
    "\n",
    "                gate_value, \\\n",
    "                gate_hrr, \\\n",
    "                gate_action = q_input_gate(current_state, current_signal, recall)\n",
    "\n",
    "                current_signal = back_up\n",
    "\n",
    "                move_value, \\\n",
    "                move_hrr, \\\n",
    "                move_action = q_move(current_state, current_signal, recall)\n",
    "\n",
    "                previous_state = current_state\n",
    "                previous_gate_hrr = gate_hrr\n",
    "                previous_move_value = move_value\n",
    "                previous_move_hrr = move_hrr\n",
    "\n",
    "                if gate_action == 'open':\n",
    "                    current_w_m = current_signal\n",
    "                    recall = 'remembering'\n",
    "\n",
    "                current_signal = ''            \n",
    "\n",
    "                # make move to next state      \n",
    "                if (move_action == \"left\"):\n",
    "                    current_state = (current_state-1)\n",
    "                if (move_action == \"right\"):\n",
    "                    current_state = (current_state+1)\n",
    "                if (move_action == \"up\"):\n",
    "                    current_state = (current_state+10)\n",
    "                if (move_action == \"down\"):\n",
    "                    current_state = (current_state-10)\n",
    "\n",
    "                # now current_state is the next state so check new actions\n",
    "                actions = maze(current_state)\n",
    "\n",
    "                if current_state == goal_state:\n",
    "                    target = reward\n",
    "                else:\n",
    "                    if recall == 'remembering':\n",
    "                        _, _, gate_action = q_output_gate(current_state, current_signal, recall)\n",
    "                    else:\n",
    "                        gate_action = 'closed'\n",
    "\n",
    "                    if gate_action == 'open':\n",
    "                        save_recall = recall\n",
    "                        recall = current_w_m\n",
    "                        move_value, _, _ = q_move_max(current_state, current_signal, recall)\n",
    "                        recall = save_recall\n",
    "                    else:\n",
    "                        move_value, _, _ = q_move_max(current_state, current_signal, recall)\n",
    "\n",
    "                    target = non_goal_states + gamma * move_value\n",
    "\n",
    "                model_input_gate.fit(previous_gate_hrr, [target-bias], verbose=0)\n",
    "\n",
    "            else:                \n",
    "                gate_value, \\\n",
    "                gate_hrr, \\\n",
    "                gate_action = q_output_gate(current_state, current_signal, recall)\n",
    "\n",
    "                if gate_action == 'open':\n",
    "                    recall = current_w_m\n",
    "                    current_w_m = ''\n",
    "                    move_value, \\\n",
    "                    move_hrr, \\\n",
    "                    move_action = q_move(current_state, current_signal, recall)\n",
    "                    recall = 'memory_used'\n",
    "                else:\n",
    "                    move_value, \\\n",
    "                    move_hrr, \\\n",
    "                    move_action = q_move(current_state, current_signal, recall)\n",
    "\n",
    "                previous_state = current_state\n",
    "                previous_move_value = move_value\n",
    "                previous_move_hrr = move_hrr\n",
    "                previous_gate_hrr = gate_hrr\n",
    "\n",
    "                if (move_action == \"left\"):\n",
    "                    current_state = (current_state-1)\n",
    "                if (move_action == \"right\"):\n",
    "                    current_state = (current_state+1)\n",
    "                if (move_action == \"up\"):\n",
    "                    current_state = (current_state+10)\n",
    "                if (move_action == \"down\"):\n",
    "                    current_state = (current_state-10)\n",
    "\n",
    "                actions = maze(current_state)\n",
    "\n",
    "                if current_state == goal_state:\n",
    "                    target = reward\n",
    "                else:\n",
    "                    if recall == 'remembering':\n",
    "                        _, _, gate_action = q_output_gate(current_state, current_signal, recall)\n",
    "                    else:\n",
    "                        gate_action = 'closed'\n",
    "\n",
    "                    if gate_action == 'open':\n",
    "                        save_recall = recall\n",
    "                        recall = current_w_m\n",
    "                        move_value, _, _ = q_move_max(current_state, current_signal, recall)\n",
    "                        recall = save_recall\n",
    "                    else:\n",
    "                        move_value, _, _ = q_move_max(current_state, current_signal, recall)\n",
    "\n",
    "                    target = non_goal_states + gamma * move_value\n",
    "\n",
    "                model_output_gate.fit(previous_gate_hrr, [target-bias], verbose=0)\n",
    "\n",
    "            model_move.fit(previous_move_hrr, [target-bias], verbose=0)\n",
    "            \n",
    "    master.append(sub_optimal_steps)\n",
    "    list_freq = (Counter(color_arr))\n",
    "    ep_count.append(list_freq)"
   ]
  },
  {
   "cell_type": "markdown",
   "metadata": {},
   "source": [
    "### save all models"
   ]
  },
  {
   "cell_type": "code",
   "execution_count": 10,
   "metadata": {},
   "outputs": [],
   "source": [
    "model_input_gate.save(\"model_input_gate.h5\",save_format='h5')\n",
    "model_output_gate.save(\"model_output_gate.h5\",save_format='h5')\n",
    "model_move.save(\"model_move.h5\",save_format='h5')"
   ]
  },
  {
   "cell_type": "code",
   "execution_count": 11,
   "metadata": {},
   "outputs": [
    {
     "data": {
      "text/plain": [
       "[Counter({'green': 4171, 'red': 4174, 'purple': 1655})]"
      ]
     },
     "execution_count": 11,
     "metadata": {},
     "output_type": "execute_result"
    }
   ],
   "source": [
    "ep_count"
   ]
  },
  {
   "cell_type": "markdown",
   "metadata": {},
   "source": [
    "### save all data"
   ]
  },
  {
   "cell_type": "code",
   "execution_count": 12,
   "metadata": {},
   "outputs": [],
   "source": [
    "np.save('ep_count', ep_count)"
   ]
  },
  {
   "cell_type": "code",
   "execution_count": 13,
   "metadata": {},
   "outputs": [],
   "source": [
    "arr = np.array(master)\n",
    "new_arr = np.add(0, arr.sum(axis=0))/runs"
   ]
  },
  {
   "cell_type": "code",
   "execution_count": 14,
   "metadata": {},
   "outputs": [],
   "source": [
    "final_arr = []\n",
    "for i in range(len(new_arr)-99):\n",
    "    final_arr.append(np.mean(new_arr[i:i+100]))"
   ]
  },
  {
   "cell_type": "code",
   "execution_count": 16,
   "metadata": {},
   "outputs": [],
   "source": [
    "np.save('final_arr', final_arr)"
   ]
  },
  {
   "cell_type": "markdown",
   "metadata": {},
   "source": [
    "\n",
    "# go to\n",
    "\n",
    "#### i_maze_input_gate_output_gate_final_code_red_greed_purple_load notebook"
   ]
  },
  {
   "cell_type": "code",
   "execution_count": null,
   "metadata": {},
   "outputs": [],
   "source": []
  },
  {
   "cell_type": "code",
   "execution_count": null,
   "metadata": {},
   "outputs": [],
   "source": []
  },
  {
   "cell_type": "code",
   "execution_count": null,
   "metadata": {},
   "outputs": [],
   "source": []
  },
  {
   "cell_type": "code",
   "execution_count": null,
   "metadata": {},
   "outputs": [],
   "source": []
  },
  {
   "cell_type": "code",
   "execution_count": null,
   "metadata": {},
   "outputs": [],
   "source": []
  },
  {
   "cell_type": "code",
   "execution_count": null,
   "metadata": {},
   "outputs": [],
   "source": []
  },
  {
   "cell_type": "code",
   "execution_count": null,
   "metadata": {},
   "outputs": [],
   "source": []
  },
  {
   "cell_type": "code",
   "execution_count": null,
   "metadata": {},
   "outputs": [],
   "source": []
  },
  {
   "cell_type": "code",
   "execution_count": null,
   "metadata": {},
   "outputs": [],
   "source": []
  },
  {
   "cell_type": "code",
   "execution_count": null,
   "metadata": {},
   "outputs": [],
   "source": []
  },
  {
   "cell_type": "code",
   "execution_count": null,
   "metadata": {},
   "outputs": [],
   "source": []
  },
  {
   "cell_type": "code",
   "execution_count": null,
   "metadata": {},
   "outputs": [],
   "source": []
  },
  {
   "cell_type": "code",
   "execution_count": null,
   "metadata": {},
   "outputs": [],
   "source": []
  },
  {
   "cell_type": "markdown",
   "metadata": {},
   "source": [
    "### plots to make advisor happy"
   ]
  },
  {
   "cell_type": "code",
   "execution_count": 15,
   "metadata": {},
   "outputs": [
    {
     "data": {
      "image/png": "[encoded data removed]",
      "text/plain": [
       "<Figure size 432x288 with 1 Axes>"
      ]
     },
     "metadata": {
      "needs_background": "light"
     },
     "output_type": "display_data"
    }
   ],
   "source": [
    "plt.plot(final_arr)\n",
    "plt.grid(True)\n",
    "plt.xlabel('Episodes')\n",
    "plt.ylabel('Sub-optimal Steps')\n",
    "# plt.savefig('red_green_purple.png')\n",
    "plt.show()"
   ]
  },
  {
   "cell_type": "markdown",
   "metadata": {},
   "source": [
    "### run model on each color to see what policy the agent learned\n",
    "#### red below"
   ]
  },
  {
   "cell_type": "code",
   "execution_count": 34,
   "metadata": {},
   "outputs": [
    {
     "name": "stdout",
     "output_type": "stream",
     "text": [
      "0 0\n",
      "1 1\n",
      "2 2\n",
      "3 12\n",
      "4 22\n",
      "5 32\n",
      "6 22\n",
      "7 23\n",
      "8 24\n",
      "9 23\n",
      "10 24\n",
      "11 23\n"
     ]
    }
   ],
   "source": [
    "current_state = 0       \n",
    "current_signal = 'red'\n",
    "\n",
    "if current_signal == 'red':\n",
    "    goal_state = 20\n",
    "if current_signal == 'green':\n",
    "    goal_state = 24\n",
    "if current_signal == 'purple':\n",
    "    goal_state = 42\n",
    "\n",
    "# clear out working memory amd move content\n",
    "current_w_m = ''\n",
    "recall = 'not_remembering'\n",
    "\n",
    "for step in range(states):\n",
    "    print(step, current_state)\n",
    "    # set for same start\n",
    "    if current_state == goal_state:\n",
    "        if color_start == 0:\n",
    "            sub_optimal_steps.append(step - 6)\n",
    "        break\n",
    "    else:\n",
    "        if step == (states-1):\n",
    "            sub_optimal_steps.append(states)\n",
    "\n",
    "    actions = maze(current_state)\n",
    "\n",
    "    if current_signal != '':\n",
    "\n",
    "        # need to make this color\n",
    "        back_up = current_signal\n",
    "        current_signal = 'color'\n",
    "\n",
    "        gate_value, \\\n",
    "        gate_hrr, \\\n",
    "        gate_action = q_input_gate(current_state, current_signal, recall)\n",
    "\n",
    "        current_signal = back_up\n",
    "\n",
    "        move_value, \\\n",
    "        move_hrr, \\\n",
    "        move_action = q_move(current_state, current_signal, recall)\n",
    "\n",
    "        previous_state = current_state\n",
    "        previous_gate_hrr = gate_hrr\n",
    "        previous_move_value = move_value\n",
    "        previous_move_hrr = move_hrr\n",
    "\n",
    "        if gate_action == 'open':\n",
    "            current_w_m = current_signal\n",
    "            recall = 'remembering'\n",
    "\n",
    "        current_signal = ''            \n",
    "\n",
    "        # make move to next state      \n",
    "        if (move_action == \"left\"):\n",
    "            current_state = (current_state-1)\n",
    "        if (move_action == \"right\"):\n",
    "            current_state = (current_state+1)\n",
    "        if (move_action == \"up\"):\n",
    "            current_state = (current_state+10)\n",
    "        if (move_action == \"down\"):\n",
    "            current_state = (current_state-10)\n",
    "\n",
    "        # now current_state is the next state so check new actions\n",
    "        actions = maze(current_state)\n",
    "\n",
    "        if current_state == goal_state:\n",
    "            target = reward\n",
    "        else:\n",
    "            if recall == 'remembering':\n",
    "                _, _, gate_action = q_output_gate(current_state, current_signal, recall)\n",
    "            else:\n",
    "                gate_action = 'closed'\n",
    "\n",
    "            if gate_action == 'open':\n",
    "                save_recall = recall\n",
    "                recall = current_w_m\n",
    "                move_value, _, _ = q_move_max(current_state, current_signal, recall)\n",
    "                recall = save_recall\n",
    "            else:\n",
    "                move_value, _, _ = q_move_max(current_state, current_signal, recall)\n",
    "\n",
    "            target = non_goal_states + gamma * move_value\n",
    "\n",
    "    else:                \n",
    "        gate_value, \\\n",
    "        gate_hrr, \\\n",
    "        gate_action = q_output_gate(current_state, current_signal, recall)\n",
    "\n",
    "        if gate_action == 'open':\n",
    "            recall = current_w_m\n",
    "            current_w_m = ''\n",
    "            move_value, \\\n",
    "            move_hrr, \\\n",
    "            move_action = q_move(current_state, current_signal, recall)\n",
    "            recall = 'memory_used'\n",
    "        else:\n",
    "            move_value, \\\n",
    "            move_hrr, \\\n",
    "            move_action = q_move(current_state, current_signal, recall)\n",
    "\n",
    "        previous_state = current_state\n",
    "        previous_move_value = move_value\n",
    "        previous_move_hrr = move_hrr\n",
    "        previous_gate_hrr = gate_hrr\n",
    "\n",
    "        if (move_action == \"left\"):\n",
    "            current_state = (current_state-1)\n",
    "        if (move_action == \"right\"):\n",
    "            current_state = (current_state+1)\n",
    "        if (move_action == \"up\"):\n",
    "            current_state = (current_state+10)\n",
    "        if (move_action == \"down\"):\n",
    "            current_state = (current_state-10)\n",
    "\n",
    "        actions = maze(current_state)\n",
    "\n",
    "        if current_state == goal_state:\n",
    "            target = reward\n",
    "        else:\n",
    "            if recall == 'remembering':\n",
    "                _, _, gate_action = q_output_gate(current_state, current_signal, recall)\n",
    "            else:\n",
    "                gate_action = 'closed'\n",
    "\n",
    "            if gate_action == 'open':\n",
    "                save_recall = recall\n",
    "                recall = current_w_m\n",
    "                move_value, _, _ = q_move_max(current_state, current_signal, recall)\n",
    "                recall = save_recall\n",
    "            else:\n",
    "                move_value, _, _ = q_move_max(current_state, current_signal, recall)\n",
    "\n",
    "            target = non_goal_states + gamma * move_value"
   ]
  },
  {
   "cell_type": "markdown",
   "metadata": {},
   "source": [
    "##### we can see red did not behave well\n",
    "\n",
    "\n",
    "\n",
    "\n",
    "\n",
    "\n",
    "\n",
    "\n",
    "#### green below"
   ]
  },
  {
   "cell_type": "code",
   "execution_count": 35,
   "metadata": {},
   "outputs": [
    {
     "name": "stdout",
     "output_type": "stream",
     "text": [
      "0 0\n",
      "1 1\n",
      "2 2\n",
      "3 12\n",
      "4 22\n",
      "5 32\n",
      "6 22\n",
      "7 23\n",
      "8 24\n"
     ]
    }
   ],
   "source": [
    "current_state = 0       \n",
    "current_signal = 'green'\n",
    "\n",
    "if current_signal == 'red':\n",
    "    goal_state = 20\n",
    "if current_signal == 'green':\n",
    "    goal_state = 24\n",
    "if current_signal == 'purple':\n",
    "    goal_state = 42\n",
    "\n",
    "# clear out working memory amd move content\n",
    "current_w_m = ''\n",
    "recall = 'not_remembering'\n",
    "\n",
    "for step in range(states):\n",
    "    print(step, current_state)\n",
    "    # set for same start\n",
    "    if current_state == goal_state:\n",
    "        if color_start == 0:\n",
    "            sub_optimal_steps.append(step - 6)\n",
    "        break\n",
    "    else:\n",
    "        if step == (states-1):\n",
    "            sub_optimal_steps.append(states)\n",
    "\n",
    "    actions = maze(current_state)\n",
    "\n",
    "    if current_signal != '':\n",
    "\n",
    "        # need to make this color\n",
    "        back_up = current_signal\n",
    "        current_signal = 'color'\n",
    "\n",
    "        gate_value, \\\n",
    "        gate_hrr, \\\n",
    "        gate_action = q_input_gate(current_state, current_signal, recall)\n",
    "\n",
    "        current_signal = back_up\n",
    "\n",
    "        move_value, \\\n",
    "        move_hrr, \\\n",
    "        move_action = q_move(current_state, current_signal, recall)\n",
    "\n",
    "        previous_state = current_state\n",
    "        previous_gate_hrr = gate_hrr\n",
    "        previous_move_value = move_value\n",
    "        previous_move_hrr = move_hrr\n",
    "\n",
    "        if gate_action == 'open':\n",
    "            current_w_m = current_signal\n",
    "            recall = 'remembering'\n",
    "\n",
    "        current_signal = ''            \n",
    "\n",
    "        # make move to next state      \n",
    "        if (move_action == \"left\"):\n",
    "            current_state = (current_state-1)\n",
    "        if (move_action == \"right\"):\n",
    "            current_state = (current_state+1)\n",
    "        if (move_action == \"up\"):\n",
    "            current_state = (current_state+10)\n",
    "        if (move_action == \"down\"):\n",
    "            current_state = (current_state-10)\n",
    "\n",
    "        # now current_state is the next state so check new actions\n",
    "        actions = maze(current_state)\n",
    "\n",
    "        if current_state == goal_state:\n",
    "            target = reward\n",
    "        else:\n",
    "            if recall == 'remembering':\n",
    "                _, _, gate_action = q_output_gate(current_state, current_signal, recall)\n",
    "            else:\n",
    "                gate_action = 'closed'\n",
    "\n",
    "            if gate_action == 'open':\n",
    "                save_recall = recall\n",
    "                recall = current_w_m\n",
    "                move_value, _, _ = q_move_max(current_state, current_signal, recall)\n",
    "                recall = save_recall\n",
    "            else:\n",
    "                move_value, _, _ = q_move_max(current_state, current_signal, recall)\n",
    "\n",
    "            target = non_goal_states + gamma * move_value\n",
    "\n",
    "    else:                \n",
    "        gate_value, \\\n",
    "        gate_hrr, \\\n",
    "        gate_action = q_output_gate(current_state, current_signal, recall)\n",
    "\n",
    "        if gate_action == 'open':\n",
    "            recall = current_w_m\n",
    "            current_w_m = ''\n",
    "            move_value, \\\n",
    "            move_hrr, \\\n",
    "            move_action = q_move(current_state, current_signal, recall)\n",
    "            recall = 'memory_used'\n",
    "        else:\n",
    "            move_value, \\\n",
    "            move_hrr, \\\n",
    "            move_action = q_move(current_state, current_signal, recall)\n",
    "\n",
    "        previous_state = current_state\n",
    "        previous_move_value = move_value\n",
    "        previous_move_hrr = move_hrr\n",
    "        previous_gate_hrr = gate_hrr\n",
    "\n",
    "        if (move_action == \"left\"):\n",
    "            current_state = (current_state-1)\n",
    "        if (move_action == \"right\"):\n",
    "            current_state = (current_state+1)\n",
    "        if (move_action == \"up\"):\n",
    "            current_state = (current_state+10)\n",
    "        if (move_action == \"down\"):\n",
    "            current_state = (current_state-10)\n",
    "\n",
    "        actions = maze(current_state)\n",
    "\n",
    "        if current_state == goal_state:\n",
    "            target = reward\n",
    "        else:\n",
    "            if recall == 'remembering':\n",
    "                _, _, gate_action = q_output_gate(current_state, current_signal, recall)\n",
    "            else:\n",
    "                gate_action = 'closed'\n",
    "\n",
    "            if gate_action == 'open':\n",
    "                save_recall = recall\n",
    "                recall = current_w_m\n",
    "                move_value, _, _ = q_move_max(current_state, current_signal, recall)\n",
    "                recall = save_recall\n",
    "            else:\n",
    "                move_value, _, _ = q_move_max(current_state, current_signal, recall)\n",
    "\n",
    "            target = non_goal_states + gamma * move_value"
   ]
  },
  {
   "cell_type": "markdown",
   "metadata": {},
   "source": [
    "##### we can see green is sub-optimal but still solving the task\n",
    "\n",
    "\n",
    "\n",
    "\n",
    "\n",
    "\n",
    "\n",
    "\n",
    "#### purple below"
   ]
  },
  {
   "cell_type": "code",
   "execution_count": 36,
   "metadata": {},
   "outputs": [
    {
     "name": "stdout",
     "output_type": "stream",
     "text": [
      "0 0\n",
      "1 1\n",
      "2 2\n",
      "3 12\n",
      "4 22\n",
      "5 32\n",
      "6 42\n"
     ]
    }
   ],
   "source": [
    "current_state = 0       \n",
    "current_signal = 'purple'\n",
    "\n",
    "if current_signal == 'red':\n",
    "    goal_state = 20\n",
    "if current_signal == 'green':\n",
    "    goal_state = 24\n",
    "if current_signal == 'purple':\n",
    "    goal_state = 42\n",
    "\n",
    "# clear out working memory amd move content\n",
    "current_w_m = ''\n",
    "recall = 'not_remembering'\n",
    "\n",
    "for step in range(states):\n",
    "    print(step, current_state)\n",
    "    # set for same start\n",
    "    if current_state == goal_state:\n",
    "        if color_start == 0:\n",
    "            sub_optimal_steps.append(step - 6)\n",
    "        break\n",
    "    else:\n",
    "        if step == (states-1):\n",
    "            sub_optimal_steps.append(states)\n",
    "\n",
    "    actions = maze(current_state)\n",
    "\n",
    "    if current_signal != '':\n",
    "\n",
    "        # need to make this color\n",
    "        back_up = current_signal\n",
    "        current_signal = 'color'\n",
    "\n",
    "        gate_value, \\\n",
    "        gate_hrr, \\\n",
    "        gate_action = q_input_gate(current_state, current_signal, recall)\n",
    "\n",
    "        current_signal = back_up\n",
    "\n",
    "        move_value, \\\n",
    "        move_hrr, \\\n",
    "        move_action = q_move(current_state, current_signal, recall)\n",
    "\n",
    "        previous_state = current_state\n",
    "        previous_gate_hrr = gate_hrr\n",
    "        previous_move_value = move_value\n",
    "        previous_move_hrr = move_hrr\n",
    "\n",
    "        if gate_action == 'open':\n",
    "            current_w_m = current_signal\n",
    "            recall = 'remembering'\n",
    "\n",
    "        current_signal = ''            \n",
    "\n",
    "        # make move to next state      \n",
    "        if (move_action == \"left\"):\n",
    "            current_state = (current_state-1)\n",
    "        if (move_action == \"right\"):\n",
    "            current_state = (current_state+1)\n",
    "        if (move_action == \"up\"):\n",
    "            current_state = (current_state+10)\n",
    "        if (move_action == \"down\"):\n",
    "            current_state = (current_state-10)\n",
    "\n",
    "        # now current_state is the next state so check new actions\n",
    "        actions = maze(current_state)\n",
    "\n",
    "        if current_state == goal_state:\n",
    "            target = reward\n",
    "        else:\n",
    "            if recall == 'remembering':\n",
    "                _, _, gate_action = q_output_gate(current_state, current_signal, recall)\n",
    "            else:\n",
    "                gate_action = 'closed'\n",
    "\n",
    "            if gate_action == 'open':\n",
    "                save_recall = recall\n",
    "                recall = current_w_m\n",
    "                move_value, _, _ = q_move_max(current_state, current_signal, recall)\n",
    "                recall = save_recall\n",
    "            else:\n",
    "                move_value, _, _ = q_move_max(current_state, current_signal, recall)\n",
    "\n",
    "            target = non_goal_states + gamma * move_value\n",
    "\n",
    "    else:                \n",
    "        gate_value, \\\n",
    "        gate_hrr, \\\n",
    "        gate_action = q_output_gate(current_state, current_signal, recall)\n",
    "\n",
    "        if gate_action == 'open':\n",
    "            recall = current_w_m\n",
    "            current_w_m = ''\n",
    "            move_value, \\\n",
    "            move_hrr, \\\n",
    "            move_action = q_move(current_state, current_signal, recall)\n",
    "            recall = 'memory_used'\n",
    "        else:\n",
    "            move_value, \\\n",
    "            move_hrr, \\\n",
    "            move_action = q_move(current_state, current_signal, recall)\n",
    "\n",
    "        previous_state = current_state\n",
    "        previous_move_value = move_value\n",
    "        previous_move_hrr = move_hrr\n",
    "        previous_gate_hrr = gate_hrr\n",
    "\n",
    "        if (move_action == \"left\"):\n",
    "            current_state = (current_state-1)\n",
    "        if (move_action == \"right\"):\n",
    "            current_state = (current_state+1)\n",
    "        if (move_action == \"up\"):\n",
    "            current_state = (current_state+10)\n",
    "        if (move_action == \"down\"):\n",
    "            current_state = (current_state-10)\n",
    "\n",
    "        actions = maze(current_state)\n",
    "\n",
    "        if current_state == goal_state:\n",
    "            target = reward\n",
    "        else:\n",
    "            if recall == 'remembering':\n",
    "                _, _, gate_action = q_output_gate(current_state, current_signal, recall)\n",
    "            else:\n",
    "                gate_action = 'closed'\n",
    "\n",
    "            if gate_action == 'open':\n",
    "                save_recall = recall\n",
    "                recall = current_w_m\n",
    "                move_value, _, _ = q_move_max(current_state, current_signal, recall)\n",
    "                recall = save_recall\n",
    "            else:\n",
    "                move_value, _, _ = q_move_max(current_state, current_signal, recall)\n",
    "\n",
    "            target = non_goal_states + gamma * move_value"
   ]
  },
  {
   "cell_type": "markdown",
   "metadata": {},
   "source": [
    "## purple did great!"
   ]
  },
  {
   "cell_type": "code",
   "execution_count": null,
   "metadata": {},
   "outputs": [],
   "source": []
  },
  {
   "cell_type": "code",
   "execution_count": 17,
   "metadata": {},
   "outputs": [],
   "source": [
    "def q_move_max_predict_max_value(state, signal, w_m):\n",
    "    info = []\n",
    "    max_value = -99999\n",
    "    actions = maze(state)\n",
    "    for phyical_action in actions:\n",
    "        hrr = encode_move(state, signal, w_m, phyical_action)\n",
    "        value = model_move.predict(hrr)[0,0] + bias                \n",
    "        if value > max_value:\n",
    "            max_value = value\n",
    "            max_action = phyical_action\n",
    "    info.append(max_action)\n",
    "    max_value = round(max_value, 3)\n",
    "    info.append(max_value)\n",
    "    return info"
   ]
  },
  {
   "cell_type": "markdown",
   "metadata": {},
   "source": [
    "### Red"
   ]
  },
  {
   "cell_type": "code",
   "execution_count": 18,
   "metadata": {},
   "outputs": [
    {
     "name": "stdout",
     "output_type": "stream",
     "text": [
      "state 0 ['right', 0.011]\n"
     ]
    }
   ],
   "source": [
    "# signal\n",
    "color, goal_state = 'red', 20\n",
    "states_array = [0] #, 1]\n",
    "\n",
    "for things in reversed(states_array):\n",
    "    if things == goal_state:\n",
    "        print('state', things, '[\\'goal\\']')\n",
    "    else:\n",
    "        print('state', things, q_move_max_predict_max_value(things, color, 'not_remembering'))\n",
    "        \n",
    "# 20 21 22 23 24\n",
    "#      ]12[ \n",
    "#  0  1  2  3  4"
   ]
  },
  {
   "cell_type": "code",
   "execution_count": 19,
   "metadata": {},
   "outputs": [
    {
     "name": "stdout",
     "output_type": "stream",
     "text": [
      "state 20 ['goal']\n",
      "state 21 ['right', 0.057]\n",
      "state 22 ['up', 0.114]\n",
      "state 12 ['up', 0.067]\n",
      "state 2 ['up', 0.034]\n",
      "state 1 ['right', 0.021]\n",
      "state 0 ['right', 0.003]\n"
     ]
    }
   ],
   "source": [
    "# remembering\n",
    "color, goal_state = 'red', 20\n",
    "states_array = [0, 1, 2, 12, 22, 21, 20]\n",
    "\n",
    "for things in reversed(states_array):\n",
    "    if things == goal_state:\n",
    "        print('state', things, '[\\'goal\\']')\n",
    "    else:\n",
    "        print('state', things, q_move_max_predict_max_value(things, '', 'remembering'))\n",
    "        \n",
    "# 20 21 22 23 24\n",
    "#      ]12[ \n",
    "#  0  1  2  3  4"
   ]
  },
  {
   "cell_type": "code",
   "execution_count": 20,
   "metadata": {},
   "outputs": [
    {
     "name": "stdout",
     "output_type": "stream",
     "text": [
      "state 20 ['goal']\n",
      "state 21 ['left', 0.013]\n",
      "state 22 ['up', 0.012]\n",
      "state 12 ['up', 0.164]\n",
      "state 2 ['right', -0.029]\n",
      "state 1 ['left', 0.001]\n",
      "state 0 ['right', -0.01]\n"
     ]
    }
   ],
   "source": [
    "# not remembering\n",
    "color, goal_state = 'red', 20\n",
    "states_array = [0, 1, 2, 12, 22, 21, 20]\n",
    "\n",
    "for things in reversed(states_array):\n",
    "    if things == goal_state:\n",
    "        print('state', things, '[\\'goal\\']')\n",
    "    else:\n",
    "        print('state', things, q_move_max_predict_max_value(things, '', 'not_remembering'))\n",
    "        \n",
    "# 20 21 22 23 24\n",
    "#      ]12[ \n",
    "#  0  1  2  3  4"
   ]
  },
  {
   "cell_type": "code",
   "execution_count": 21,
   "metadata": {},
   "outputs": [
    {
     "name": "stdout",
     "output_type": "stream",
     "text": [
      "state 20 ['goal']\n",
      "state 21 ['right', 0.025]\n",
      "state 22 ['right', 0.017]\n",
      "state 12 ['down', -0.008]\n",
      "state 2 ['right', -0.003]\n",
      "state 1 ['left', -0.095]\n",
      "state 0 ['right', -0.049]\n"
     ]
    }
   ],
   "source": [
    "# memory_used\n",
    "color, goal_state = 'red', 20\n",
    "states_array = [0, 1, 2, 12, 22, 21, 20]\n",
    "\n",
    "for things in reversed(states_array):\n",
    "    if things == goal_state:\n",
    "        print('state', things, '[\\'goal\\']')\n",
    "    else:\n",
    "        print('state', things, q_move_max_predict_max_value(things, '', 'memory_used'))\n",
    "        \n",
    "# 20 21 22 23 24\n",
    "#      ]12[ \n",
    "#  0  1  2  3  4"
   ]
  },
  {
   "cell_type": "code",
   "execution_count": null,
   "metadata": {},
   "outputs": [],
   "source": []
  },
  {
   "cell_type": "markdown",
   "metadata": {},
   "source": [
    "### Green"
   ]
  },
  {
   "cell_type": "code",
   "execution_count": 22,
   "metadata": {},
   "outputs": [
    {
     "name": "stdout",
     "output_type": "stream",
     "text": [
      "state 0 ['right', 0.019]\n"
     ]
    }
   ],
   "source": [
    "# signal\n",
    "color, goal_state = 'green', 24\n",
    "states_array = [0] #, 1]\n",
    "\n",
    "for things in reversed(states_array):\n",
    "    if things == goal_state:\n",
    "        print('state', things, '[\\'goal\\']')\n",
    "    else:\n",
    "        print('state', things, q_move_max_predict_max_value(things, color, 'not_remembering'))\n",
    "        \n",
    "# 20 21 22 23 24\n",
    "#      ]12[ \n",
    "#  0  1  2  3  4"
   ]
  },
  {
   "cell_type": "code",
   "execution_count": 23,
   "metadata": {},
   "outputs": [
    {
     "name": "stdout",
     "output_type": "stream",
     "text": [
      "state 24 ['goal']\n",
      "state 23 ['left', 0.061]\n",
      "state 22 ['up', 0.114]\n",
      "state 12 ['up', 0.067]\n",
      "state 2 ['up', 0.034]\n",
      "state 1 ['right', 0.021]\n",
      "state 0 ['right', 0.003]\n"
     ]
    }
   ],
   "source": [
    "# remembering\n",
    "color, goal_state = 'green', 24\n",
    "states_array = [0, 1, 2, 12, 22, 23, 24]\n",
    "\n",
    "for things in reversed(states_array):\n",
    "    if things == goal_state:\n",
    "        print('state', things, '[\\'goal\\']')\n",
    "    else:\n",
    "        print('state', things, q_move_max_predict_max_value(things, '', 'remembering'))\n",
    "        \n",
    "# 20 21 22 23 24\n",
    "#      ]12[ \n",
    "#  0  1  2  3  4"
   ]
  },
  {
   "cell_type": "code",
   "execution_count": 24,
   "metadata": {},
   "outputs": [
    {
     "name": "stdout",
     "output_type": "stream",
     "text": [
      "state 24 ['goal']\n",
      "state 23 ['left', 0.238]\n",
      "state 22 ['up', 0.012]\n",
      "state 12 ['up', 0.164]\n",
      "state 2 ['right', -0.029]\n",
      "state 1 ['left', 0.001]\n",
      "state 0 ['right', -0.01]\n"
     ]
    }
   ],
   "source": [
    "# not remembering\n",
    "color, goal_state = 'green', 24\n",
    "states_array = [0, 1, 2, 12, 22, 23, 24]\n",
    "\n",
    "for things in reversed(states_array):\n",
    "    if things == goal_state:\n",
    "        print('state', things, '[\\'goal\\']')\n",
    "    else:\n",
    "        print('state', things, q_move_max_predict_max_value(things, '', 'not_remembering'))\n",
    "        \n",
    "# 20 21 22 23 24\n",
    "#      ]12[ \n",
    "#  0  1  2  3  4"
   ]
  },
  {
   "cell_type": "code",
   "execution_count": 25,
   "metadata": {},
   "outputs": [
    {
     "name": "stdout",
     "output_type": "stream",
     "text": [
      "state 24 ['goal']\n",
      "state 23 ['left', 0.032]\n",
      "state 22 ['right', 0.017]\n",
      "state 12 ['down', -0.008]\n",
      "state 2 ['right', -0.003]\n",
      "state 1 ['left', -0.095]\n",
      "state 0 ['right', -0.049]\n"
     ]
    }
   ],
   "source": [
    "# memory_used\n",
    "color, goal_state = 'green', 24\n",
    "states_array = [0, 1, 2, 12, 22, 23, 24]\n",
    "\n",
    "for things in reversed(states_array):\n",
    "    if things == goal_state:\n",
    "        print('state', things, '[\\'goal\\']')\n",
    "    else:\n",
    "        print('state', things, q_move_max_predict_max_value(things, '', 'memory_used'))\n",
    "        \n",
    "# 20 21 22 23 24\n",
    "#      ]12[ \n",
    "#  0  1  2  3  4"
   ]
  },
  {
   "cell_type": "code",
   "execution_count": null,
   "metadata": {},
   "outputs": [],
   "source": []
  },
  {
   "cell_type": "markdown",
   "metadata": {},
   "source": [
    "### Purple"
   ]
  },
  {
   "cell_type": "code",
   "execution_count": 26,
   "metadata": {},
   "outputs": [
    {
     "name": "stdout",
     "output_type": "stream",
     "text": [
      "state 0 ['right', 0.001]\n"
     ]
    }
   ],
   "source": [
    "# signal\n",
    "color, goal_state = 'purple', 42\n",
    "states_array = [0] #, 1]\n",
    "\n",
    "for things in reversed(states_array):\n",
    "    if things == goal_state:\n",
    "        print('state', things, '[\\'goal\\']')\n",
    "    else:\n",
    "        print('state', things, q_move_max_predict_max_value(things, color, 'not_remembering'))\n",
    "        \n",
    "# 20 21 22 23 24\n",
    "#      ]12[ \n",
    "#  0  1  2  3  4"
   ]
  },
  {
   "cell_type": "code",
   "execution_count": 28,
   "metadata": {},
   "outputs": [
    {
     "name": "stdout",
     "output_type": "stream",
     "text": [
      "state 42 ['goal']\n",
      "state 32 ['up', 0.04]\n",
      "state 22 ['up', 0.114]\n",
      "state 12 ['up', 0.067]\n",
      "state 2 ['up', 0.034]\n",
      "state 1 ['right', 0.021]\n",
      "state 0 ['right', 0.003]\n"
     ]
    }
   ],
   "source": [
    "# remembering\n",
    "color, goal_state = 'purple', 42\n",
    "states_array = [0, 1, 2, 12, 22, 32, 42]\n",
    "\n",
    "for things in reversed(states_array):\n",
    "    if things == goal_state:\n",
    "        print('state', things, '[\\'goal\\']')\n",
    "    else:\n",
    "        print('state', things, q_move_max_predict_max_value(things, '', 'remembering'))\n",
    "        \n",
    "# 20 21 22 23 24\n",
    "#      ]12[ \n",
    "#  0  1  2  3  4"
   ]
  },
  {
   "cell_type": "code",
   "execution_count": 29,
   "metadata": {},
   "outputs": [
    {
     "name": "stdout",
     "output_type": "stream",
     "text": [
      "state 42 ['goal']\n",
      "state 32 ['down', 0.025]\n",
      "state 22 ['up', 0.012]\n",
      "state 12 ['up', 0.164]\n",
      "state 2 ['right', -0.029]\n",
      "state 1 ['left', 0.001]\n",
      "state 0 ['right', -0.01]\n"
     ]
    }
   ],
   "source": [
    "# not remembering\n",
    "color, goal_state = 'purple', 42\n",
    "states_array = [0, 1, 2, 12, 22, 32, 42]\n",
    "\n",
    "for things in reversed(states_array):\n",
    "    if things == goal_state:\n",
    "        print('state', things, '[\\'goal\\']')\n",
    "    else:\n",
    "        print('state', things, q_move_max_predict_max_value(things, '', 'not_remembering'))\n",
    "        \n",
    "# 20 21 22 23 24\n",
    "#      ]12[ \n",
    "#  0  1  2  3  4"
   ]
  },
  {
   "cell_type": "code",
   "execution_count": 30,
   "metadata": {},
   "outputs": [
    {
     "name": "stdout",
     "output_type": "stream",
     "text": [
      "state 42 ['goal']\n",
      "state 32 ['down', -0.027]\n",
      "state 22 ['right', 0.017]\n",
      "state 12 ['down', -0.008]\n",
      "state 2 ['right', -0.003]\n",
      "state 1 ['left', -0.095]\n",
      "state 0 ['right', -0.049]\n"
     ]
    }
   ],
   "source": [
    "# memory_used\n",
    "color, goal_state = 'purple', 42\n",
    "states_array = [0, 1, 2, 12, 22, 32, 42]\n",
    "\n",
    "for things in reversed(states_array):\n",
    "    if things == goal_state:\n",
    "        print('state', things, '[\\'goal\\']')\n",
    "    else:\n",
    "        print('state', things, q_move_max_predict_max_value(things, '', 'memory_used'))\n",
    "        \n",
    "# 20 21 22 23 24\n",
    "#      ]12[ \n",
    "#  0  1  2  3  4"
   ]
  },
  {
   "cell_type": "markdown",
   "metadata": {},
   "source": [
    "### clean up memory"
   ]
  },
  {
   "cell_type": "code",
   "execution_count": 37,
   "metadata": {},
   "outputs": [],
   "source": [
    "memory = None"
   ]
  },
  {
   "cell_type": "code",
   "execution_count": null,
   "metadata": {},
   "outputs": [],
   "source": []
  }
 ],
 "metadata": {
  "kernelspec": {
   "display_name": "Python 3 (ipykernel)",
   "language": "python",
   "name": "python3"
  },
  "language_info": {
   "codemirror_mode": {
    "name": "ipython",
    "version": 3
   },
   "file_extension": ".py",
   "mimetype": "text/x-python",
   "name": "python",
   "nbconvert_exporter": "python",
   "pygments_lexer": "ipython3",
   "version": "3.9.6"
  }
 },
 "nbformat": 4,
 "nbformat_minor": 4
}
